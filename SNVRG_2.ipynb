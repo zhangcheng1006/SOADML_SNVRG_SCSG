{
 "cells": [
  {
   "cell_type": "markdown",
   "metadata": {
    "colab_type": "text",
    "id": "il_2CS_y5Tbi"
   },
   "source": [
    "# Stochastic Nested Variance Reduction Gradient for Non-convex Optimization\n",
    "\n",
    "This notebook implements the SNVRG algorithm proposed in this [paper](https://papers.nips.cc/paper/7648-stochastic-nested-variance-reduced-gradient-descent-for-nonconvex-optimization.pdf) by Dongruo Zhou et al.\n",
    "\n",
    "We apply the SNVRG algorithm to a convex problem (Logistic regression with LASSO regularization) and a non-convex problem."
   ]
  },
  {
   "cell_type": "code",
   "execution_count": 1,
   "metadata": {
    "colab": {},
    "colab_type": "code",
    "id": "wLF1L6cu5Tbj"
   },
   "outputs": [],
   "source": [
    "import numpy as np\n",
    "import matplotlib.pyplot as plt\n",
    "from tqdm import tqdm"
   ]
  },
  {
   "cell_type": "markdown",
   "metadata": {
    "colab_type": "text",
    "id": "VbiZ2Ins5Tbn"
   },
   "source": [
    "## 1. Toy Convex Problem: Logistic Regression with LASSO regularization"
   ]
  },
  {
   "cell_type": "code",
   "execution_count": 2,
   "metadata": {
    "colab": {},
    "colab_type": "code",
    "id": "m32gebkO5Tbo"
   },
   "outputs": [],
   "source": [
    "# Generate the data\n",
    "n, p = 1000, 5\n",
    "\n",
    "X = np.random.randn(n, p)\n",
    "w = np.random.randn(p)\n",
    "\n",
    "sigma = 1\n",
    "xi = np.random.randn(n)\n",
    "\n",
    "y = np.sign(X.dot(w) + sigma*xi)"
   ]
  },
  {
   "cell_type": "code",
   "execution_count": 3,
   "metadata": {
    "colab": {},
    "colab_type": "code",
    "id": "06i4ngS75Tbq"
   },
   "outputs": [],
   "source": [
    "# Define the loss function\n",
    "def LASSO_loss(X, y, theta, lamda):\n",
    "    '''Return the logistic LASSO loss for parameters `theta`.'''\n",
    "    return np.mean(np.log(1.0 + np.exp(- y * X.dot(theta)))) + lamda * np.sum(np.abs(theta))"
   ]
  },
  {
   "cell_type": "code",
   "execution_count": 4,
   "metadata": {
    "colab": {},
    "colab_type": "code",
    "id": "XA5ODmzb5Tbt"
   },
   "outputs": [],
   "source": [
    "# Define the gradient of the loss function\n",
    "def full_grad_loss(X, y, theta, lamda):\n",
    "    '''Return the gardient of the logistic LASSO loss at point `theta`.'''\n",
    "    n = X.shape[0]\n",
    "    LASSO_grad = lamda * ((theta >= 0).astype(np.int) * 2 - 1)\n",
    "    return (1./n) * (- y/(1.0 + np.exp(y * X.dot(theta)))).dot(X) + LASSO_grad\n",
    "\n",
    "def grad(X, y, theta, lamda, i):\n",
    "    '''Return the gardient of the logistic LASSO loss at point `theta` for datum i.'''\n",
    "    n = X.shape[0]\n",
    "    LASSO_grad = lamda * ((theta >= 0).astype(np.int) * 2 - 1)\n",
    "    return (1./n) * (- y[i]/(1.0 + np.exp(y[i] * X[i].dot(theta)))) * X[i] + LASSO_grad"
   ]
  },
  {
   "cell_type": "code",
   "execution_count": 5,
   "metadata": {
    "colab": {},
    "colab_type": "code",
    "id": "QK6-CRXs5Tbv"
   },
   "outputs": [],
   "source": [
    "# Define the SVRG algorithm\n",
    "def SVRG(X, y, theta, lamda, max_iter, max_iter_inner, step_size):\n",
    "    n, p = X.shape\n",
    "    theta_hat_history = []\n",
    "    loss_history = []\n",
    "    theta_history = np.zeros((max_iter_inner, p))\n",
    "    \n",
    "    theta_hat = theta\n",
    "    \n",
    "    for t in range(max_iter):\n",
    "        full_gradient = full_grad_loss(X, y, theta_hat, lamda)\n",
    "        for k in range(max_iter_inner):\n",
    "            i = np.random.randint(0, n)\n",
    "            theta = theta - step_size * (grad(X, y, theta, lamda, i) - grad(X, y, theta_hat, lamda, i) + full_gradient)\n",
    "            theta_history[k] = theta\n",
    "            \n",
    "        theta_hat = np.mean(theta_history, axis=0)\n",
    "        \n",
    "        theta_hat_history.append(theta_hat)\n",
    "        loss_history.append(LASSO_loss(X, y, theta_hat, lamda))\n",
    "    \n",
    "    return theta_hat, theta_hat_history, loss_history"
   ]
  },
  {
   "cell_type": "code",
   "execution_count": 6,
   "metadata": {
    "colab": {},
    "colab_type": "code",
    "id": "qSYlkiXH5Tbx"
   },
   "outputs": [],
   "source": [
    "theta = np.random.randn(p)\n",
    "svrg_theta_hat, svrg_theta_hat_history, svrg_loss_history = SVRG(X, y, theta, lamda=0.1, max_iter=100, max_iter_inner=100, step_size=0.05)"
   ]
  },
  {
   "cell_type": "code",
   "execution_count": 7,
   "metadata": {
    "colab": {},
    "colab_type": "code",
    "id": "Js1NM0C45Tb0"
   },
   "outputs": [],
   "source": [
    "# Define the approximative minimum value of the loss function\n",
    "svrg_min_loss = np.min(svrg_loss_history)"
   ]
  },
  {
   "cell_type": "code",
   "execution_count": 8,
   "metadata": {
    "colab": {},
    "colab_type": "code",
    "id": "tUJ4REx45Tb2"
   },
   "outputs": [],
   "source": [
    "# Define the function to find the mod index\n",
    "def find_index(t, loop_params):\n",
    "    K = len(loop_params)\n",
    "    T = 1.0\n",
    "    for j in range(K, 0, -1):\n",
    "        T1 = T * loop_params[j-1]\n",
    "        if t % T == 0 and t % T1 != 0:\n",
    "            return j\n",
    "        T = T1\n",
    "    return 0\n",
    "\n",
    "def update_reference_points(theta_reference, theta, r):\n",
    "    updated_reference = theta_reference.copy()\n",
    "    K, p = theta_reference.shape\n",
    "    to_update = np.broadcast_to(theta, shape=(K - r, p))\n",
    "    updated_reference[r:] = to_update\n",
    "    \n",
    "    return updated_reference\n",
    "\n",
    "def update_reference_gradients(X, y, gradients, theta_reference, lamda, r, batch_params, base_batch_size):\n",
    "    n = X.shape[0]\n",
    "    K, p = theta_reference.shape\n",
    "    for l in range(r, K):\n",
    "        indexes = np.arange(n)\n",
    "        np.random.shuffle(indexes)\n",
    "        if l == 0:\n",
    "            batch_indexes = indexes[0:base_batch_size]\n",
    "            gradients[l] = full_grad_loss(X[batch_indexes], y[batch_indexes], theta_reference[l], lamda)\n",
    "        else:\n",
    "            batch_indexes = indexes[0:batch_params[l-1]]\n",
    "            gradients[l] = full_grad_loss(X[batch_indexes], y[batch_indexes], theta_reference[l], lamda) \\\n",
    "                            - full_grad_loss(X[batch_indexes], y[batch_indexes], theta_reference[l-1], lamda)\n",
    "                \n",
    "    return gradients"
   ]
  },
  {
   "cell_type": "code",
   "execution_count": 9,
   "metadata": {
    "colab": {},
    "colab_type": "code",
    "id": "hMwwT_7r5Tb6"
   },
   "outputs": [],
   "source": [
    "def one_epoch_SNVRG(X, y, theta, lamda, loop_params, batch_params, base_batch_size, step_size):\n",
    "    assert len(loop_params) == len(batch_params), \"The number of loop parameters should be the same as that of batch parameters!\"\n",
    "    K = len(loop_params)\n",
    "    total_params = np.prod(loop_params)\n",
    "    n, p = X.shape\n",
    "    theta_reference = np.broadcast_to(theta, shape=(K+1, p))\n",
    "    theta_history = []\n",
    "    \n",
    "    gradients = np.zeros((K+1, p))\n",
    "    indexes = np.arange(n)\n",
    "    np.random.shuffle(indexes)\n",
    "    base_batch = indexes[0:base_batch_size]\n",
    "    gradients[0] = full_grad_loss(X[base_batch], y[base_batch], theta, lamda)\n",
    "    grad = np.sum(gradients, axis=0)\n",
    "    theta = theta - 0.1 / step_size * grad\n",
    "    theta_history.append(theta)\n",
    "    \n",
    "    for t in range(1, total_params):\n",
    "        r = find_index(t, loop_params)\n",
    "        theta_reference = update_reference_points(theta_reference, theta, r)\n",
    "        gradients = update_reference_gradients(X, y, gradients, theta_reference, lamda, r, batch_params, base_batch_size)\n",
    "        grad = np.sum(gradients, axis=0)\n",
    "        theta = theta - 0.1 / step_size * grad\n",
    "        \n",
    "        theta_history.append(theta)\n",
    "        \n",
    "    final_theta = theta_history[np.random.choice(len(theta_history), size=1)[0]]\n",
    "#     final_theta = np.mean(theta_history, axis=0)\n",
    "    final_loss = LASSO_loss(X, y, final_theta, lamda)\n",
    "    \n",
    "    return final_theta, theta_history[-1], final_loss"
   ]
  },
  {
   "cell_type": "code",
   "execution_count": 10,
   "metadata": {
    "colab": {},
    "colab_type": "code",
    "id": "ngR-ew5B5Tb-"
   },
   "outputs": [],
   "source": [
    "def SNVRG(X, y, theta, lamda, max_iter, loop_params, batch_params, base_batch_size, step_size):\n",
    "    theta_history = []\n",
    "    loss_history = []\n",
    "    for t in range(max_iter):\n",
    "        theta_hat, theta, loss = one_epoch_SNVRG(X, y, theta, lamda, loop_params, batch_params, base_batch_size, step_size)\n",
    "        theta_history.append(theta_hat)\n",
    "        loss_history.append(loss)\n",
    "    \n",
    "    theta_hat = theta_history[np.random.choice(len(theta_history), size=1)[0]]\n",
    "    return theta_hat, theta_history, loss_history"
   ]
  },
  {
   "cell_type": "markdown",
   "metadata": {
    "colab_type": "text",
    "id": "9KEI_HqX5TcB"
   },
   "source": [
    "First, we set the same parameters as those in SVRG to see if we can reproduce the result in SVRG."
   ]
  },
  {
   "cell_type": "code",
   "execution_count": 11,
   "metadata": {
    "colab": {},
    "colab_type": "code",
    "id": "OPPBJs905TcE"
   },
   "outputs": [],
   "source": [
    "theta = np.random.randn(p)\n",
    "loop_params = [100]\n",
    "base_batch_size = 1000\n",
    "batch_params = [1]\n",
    "L = np.linalg.norm((1./(4*n))*X.T.dot(X), ord=2)\n",
    "step_size = 2.0\n",
    "snvrg_theta_hat, snvrg_theta_hat_history, snvrg_loss_history = SNVRG(X, y, theta, 0.1, 100, loop_params, batch_params, base_batch_size, step_size)"
   ]
  },
  {
   "cell_type": "code",
   "execution_count": 12,
   "metadata": {
    "colab": {},
    "colab_type": "code",
    "id": "Qa_avq5S5TcH"
   },
   "outputs": [],
   "source": [
    "snvrg_min_loss = np.min(snvrg_loss_history)\n",
    "min_loss = np.min([svrg_min_loss, snvrg_min_loss])"
   ]
  },
  {
   "cell_type": "code",
   "execution_count": 13,
   "metadata": {
    "colab": {
     "base_uri": "https://localhost:8080/",
     "height": 415
    },
    "colab_type": "code",
    "id": "rBpQq8BZ5TcJ",
    "outputId": "338e8e39-3ab3-42c5-cfa8-94642baa7276"
   },
   "outputs": [
    {
     "data": {
      "image/png": "[encoded data removed]",
      "text/plain": [
       "<Figure size 1224x432 with 1 Axes>"
      ]
     },
     "metadata": {},
     "output_type": "display_data"
    }
   ],
   "source": [
    "# Let us now plot the convergence in terms of values of loss\n",
    "plt.figure(figsize=(17, 6))\n",
    "plt.semilogy(snvrg_loss_history - min_loss, label='SNVRG', lw=7)\n",
    "plt.semilogy(svrg_loss_history - min_loss, label='SVRG', lw=7)\n",
    "plt.grid(ls=':')\n",
    "plt.legend(loc='best', fontsize=25)\n",
    "plt.xticks(fontsize=20)\n",
    "plt.yticks(fontsize=20)\n",
    "plt.xlabel('Number of Iterations', fontsize=25)\n",
    "plt.ylabel('Approximation Error', fontsize=25)\n",
    "plt.show()"
   ]
  },
  {
   "cell_type": "markdown",
   "metadata": {
    "colab_type": "text",
    "id": "XRpcW0SA5TcO"
   },
   "source": [
    "We can see that the convergences of two algorithms are quite similar. Notice that SNVRG is more oscillating than SVRG which is because SNVRG chooses the parameter $\\theta$ randomly in each epoch rather than taking the mean as in SVRG."
   ]
  },
  {
   "cell_type": "markdown",
   "metadata": {
    "colab_type": "text",
    "id": "MPWRAtJa5TcO"
   },
   "source": [
    "Now we test the performance of the real SNVRG by taking $K = 2$ as in the paper. And we choose the loop parameters $T_l = \\{2, 2\\}$, the batch parameters $B_l = \\{128, 64\\}$, the base batch size $B = 256$ and the step size parameter $M = 6L$ where $L$ is the Lipschitz constant, as suggested in the paper."
   ]
  },
  {
   "cell_type": "code",
   "execution_count": 14,
   "metadata": {
    "colab": {},
    "colab_type": "code",
    "id": "iy9S5Cry5TcP"
   },
   "outputs": [],
   "source": [
    "theta = np.random.randn(p)\n",
    "loop_params = [2, 2]\n",
    "base_batch_size = 256\n",
    "batch_params = [128, 64]\n",
    "L = np.linalg.norm((1./(4*n))*X.T.dot(X), ord=2)\n",
    "step_size = 6 * L\n",
    "snvrg_theta_hat, snvrg_theta_hat_history, snvrg_loss_history = SNVRG(X, y, theta, 0.1, 100, loop_params, batch_params, base_batch_size, step_size)"
   ]
  },
  {
   "cell_type": "code",
   "execution_count": 15,
   "metadata": {
    "colab": {},
    "colab_type": "code",
    "id": "1vkRKAYR5TcR"
   },
   "outputs": [],
   "source": [
    "snvrg_min_loss = np.min(snvrg_loss_history)"
   ]
  },
  {
   "cell_type": "code",
   "execution_count": 16,
   "metadata": {
    "colab": {},
    "colab_type": "code",
    "id": "1zTlwJFU5TcT"
   },
   "outputs": [],
   "source": [
    "min_loss = np.min([svrg_min_loss, snvrg_min_loss])"
   ]
  },
  {
   "cell_type": "code",
   "execution_count": 17,
   "metadata": {
    "colab": {
     "base_uri": "https://localhost:8080/",
     "height": 415
    },
    "colab_type": "code",
    "id": "lV34A5mX5TcV",
    "outputId": "c5fbb255-4e2d-49ad-f8ad-b3121a224b6e"
   },
   "outputs": [
    {
     "data": {
      "image/png": "[encoded data removed]",
      "text/plain": [
       "<Figure size 1224x432 with 1 Axes>"
      ]
     },
     "metadata": {},
     "output_type": "display_data"
    }
   ],
   "source": [
    "# Let us now plot the convergence in terms of values of loss\n",
    "plt.figure(figsize=(17, 6))\n",
    "plt.semilogy(snvrg_loss_history - min_loss, label='SNVRG', lw=7)\n",
    "plt.semilogy(svrg_loss_history - min_loss, label='SVRG', lw=7)\n",
    "plt.grid(ls=':')\n",
    "plt.legend(loc='best', fontsize=25)\n",
    "plt.xticks(fontsize=20)\n",
    "plt.yticks(fontsize=20)\n",
    "plt.xlabel('Number of Iterations', fontsize=25)\n",
    "plt.ylabel('Approximation Error', fontsize=25)\n",
    "plt.show()"
   ]
  },
  {
   "cell_type": "markdown",
   "metadata": {
    "colab_type": "text",
    "id": "1O0qnqHx5TcZ"
   },
   "source": [
    "We can see that the SNVRG converges slower at the beginning but it can attain similar performance as SVRG after around 50 iterations."
   ]
  },
  {
   "cell_type": "markdown",
   "metadata": {
    "colab_type": "text",
    "id": "NHOgiBvU5Tcb"
   },
   "source": [
    "## 2. Non-convex Problem: MNIST dataset image classification\n",
    "As presented in the paper, we take the image classification non-convex problem on MNIST dataset to see the performance of SNVRG.\n",
    "\n",
    "In order to train the neural network efficiently, we use TensorFlow framework. Thus we reimplement the SNVRG algorithm in TensorFlow here."
   ]
  },
  {
   "cell_type": "code",
   "execution_count": 18,
   "metadata": {
    "colab": {},
    "colab_type": "code",
    "id": "waqsbJLc5Tcc"
   },
   "outputs": [],
   "source": [
    "import tensorflow as tf"
   ]
  },
  {
   "cell_type": "code",
   "execution_count": 19,
   "metadata": {
    "colab": {},
    "colab_type": "code",
    "id": "PysXumbg5Tcf"
   },
   "outputs": [],
   "source": [
    "# Image size in MNIST dataset is (28, 28), so the first convolutional layer is applied with SAME padding, to fit with the LeNet architecture\n",
    "def CNN_LeNet(images, parameters):\n",
    "    filter1, bias1, filter2, bias2, W1, b1, W2, b2, W3, b3 = parameters\n",
    "    stride1 = [1, 1, 1, 1]\n",
    "    kernel = [1, 2, 2, 1]\n",
    "    stride2 = [1, 2, 2, 1]\n",
    "    conv1 = tf.nn.conv2d(images, filter1, stride1, padding='SAME', name='Conv1') + bias1\n",
    "    pool1 = tf.nn.max_pool(conv1, kernel, stride2, padding='VALID', name='MaxPool1')\n",
    "    relu1 = tf.nn.relu(pool1, name='ReLU1')\n",
    "    conv2 = tf.nn.conv2d(relu1, filter2, stride1, padding='VALID', name='Conv2') + bias2\n",
    "    pool2 = tf.nn.max_pool(conv2, kernel, stride2, padding='VALID', name='MaxPool2')\n",
    "    relu2 = tf.nn.relu(pool2, name='Relu2')\n",
    "    size = relu2.get_shape().as_list()\n",
    "    new_size = size[-1] * size[-2] * size[-3]\n",
    "    flatten = tf.reshape(relu2, [-1, new_size])\n",
    "    fc1 = tf.nn.relu(tf.matmul(flatten, W1) + b1, name='FC1')\n",
    "    fc2 = tf.nn.relu(tf.matmul(fc1, W2) + b2, name='FC2')\n",
    "    output = tf.nn.softmax(tf.matmul(fc2, W3) + b3, name='Output')\n",
    "    \n",
    "    return output"
   ]
  },
  {
   "cell_type": "code",
   "execution_count": 20,
   "metadata": {
    "colab": {},
    "colab_type": "code",
    "id": "nyF34bzU5Tck"
   },
   "outputs": [],
   "source": [
    "def loss(y, pred, regularization, parameters):\n",
    "    filter1, bias1, filter2, bias2, W1, b1, W2, b2, W3, b3 = parameters\n",
    "    cost = tf.reduce_mean(-tf.reduce_sum(y * tf.log(pred), axis=-1))\n",
    "    cost = cost + regularization * (tf.reduce_sum(tf.square(filter1)) + tf.reduce_sum(tf.square(filter2)))\n",
    "    cost = cost + regularization * (tf.reduce_sum(tf.square(W1)) + tf.reduce_sum(tf.square(W2)) + tf.reduce_sum(tf.square(W3)))\n",
    "    return cost\n",
    "\n",
    "def grad_loss(cost, parameters):\n",
    "    d_filter1, d_bias1, d_filter2, d_bias2, d_W1, d_b1, d_W2, d_b2, d_W3, d_b3 = tf.gradients(cost, parameters)\n",
    "    return [d_filter1, d_bias1, d_filter2, d_bias2, d_W1, d_b1, d_W2, d_b2, d_W3, d_b3]"
   ]
  },
  {
   "cell_type": "code",
   "execution_count": 21,
   "metadata": {
    "colab": {},
    "colab_type": "code",
    "id": "uGs0XpO65Tcn"
   },
   "outputs": [],
   "source": [
    "def one_epoch_SVRG_tf(X, y, parameters, regularization, max_iter_inner, step_size):\n",
    "    n = X.get_shape().as_list()[0]\n",
    "    parameters_history = []\n",
    "    \n",
    "    parameters_hat = parameters\n",
    "    \n",
    "    y_pred = CNN_LeNet(X, parameters)\n",
    "    cost = loss(y, y_pred, regularization, parameters)\n",
    "    full_gradient = grad_loss(cost, parameters_hat)\n",
    "    \n",
    "    for k in range(max_iter_inner):\n",
    "        i = np.random.randint(0, n)\n",
    "        y_pred_new = CNN_LeNet(X[i:i+1], parameters)\n",
    "        cost_new = loss(y[i:i+1], y_pred_new, regularization, parameters)\n",
    "        grad_new = grad_loss(cost_new, parameters)\n",
    "        y_pred_old = CNN_LeNet(X[i:i+1], parameters_hat)\n",
    "        cost_old = loss(y[i:i+1], y_pred_old, regularization, parameters_hat)\n",
    "        grad_old = grad_loss(cost_old, parameters_hat)\n",
    "        \n",
    "        for j, _ in enumerate(parameters):\n",
    "            parameters[j] = parameters[j] - step_size * (grad_new[j] - grad_old[j] + full_gradient[j])\n",
    "        \n",
    "        parameters_history.append(parameters)\n",
    "\n",
    "    parameters_hat = []\n",
    "    for j in range(len(parameters)):\n",
    "        param_hat = parameters_history[0][j]\n",
    "        for k in range(1, max_iter_inner):\n",
    "            param_hat = param_hat + parameters_history[k][j]\n",
    "        param_hat = param_hat / max_iter_inner\n",
    "        parameters_hat.append(param_hat)\n",
    "\n",
    "    y_pred = CNN_LeNet(X, parameters_hat)\n",
    "    cost = loss(y, y_pred, regularization, parameters_hat)\n",
    "    \n",
    "    return parameters_hat, cost"
   ]
  },
  {
   "cell_type": "code",
   "execution_count": 22,
   "metadata": {
    "colab": {},
    "colab_type": "code",
    "id": "r0FK5IVI5Tcs"
   },
   "outputs": [],
   "source": [
    "def update_reference_points_tf(parameters_references, parameters, r):\n",
    "    K = len(parameters_references)\n",
    "    for i in range(r, K):\n",
    "        parameters_references[i] = parameters\n",
    "    return parameters_references\n",
    "    \n",
    "def update_reference_gradients_tf(X, y, gradients, parameters_references, regularization, r, batch_params, base_batch_size):\n",
    "    n = X.get_shape().as_list()[0]\n",
    "    K = len(parameters_references)\n",
    "    for l in range(r, K):\n",
    "        indexes = tf.random.shuffle(tf.range(n))\n",
    "        if l == 0:\n",
    "            batch_indexes = indexes[0:base_batch_size]\n",
    "            y_pred = CNN_LeNet(tf.gather(X, batch_indexes), parameters_references[l])\n",
    "            cost = loss(tf.gather(y, batch_indexes), y_pred, regularization, parameters_references[l])\n",
    "            gradients[l] = grad_loss(cost, parameters_references[l])\n",
    "        else:\n",
    "            batch_indexes = indexes[0:batch_params[l-1]]\n",
    "            y_pred_new = CNN_LeNet(tf.gather(X, batch_indexes), parameters_references[l])\n",
    "            cost_new = loss(tf.gather(y, batch_indexes), y_pred_new, regularization, parameters_references[l])\n",
    "            grad_new = grad_loss(cost_new, parameters_references[l])\n",
    "            y_pred_old = CNN_LeNet(tf.gather(X, batch_indexes), parameters_references[l-1])\n",
    "            cost_old = loss(tf.gather(y, batch_indexes), y_pred_old, regularization, parameters_references[l-1])\n",
    "            grad_old = grad_loss(cost_old, parameters_references[l-1])\n",
    "            for i in range(len(grad_new)):\n",
    "                gradients[l][i] = grad_new[i] - grad_old[i]\n",
    "            \n",
    "    return gradients"
   ]
  },
  {
   "cell_type": "code",
   "execution_count": 23,
   "metadata": {
    "colab": {},
    "colab_type": "code",
    "id": "Mkxzb6yh5Tcv"
   },
   "outputs": [],
   "source": [
    "def one_epoch_SNVRG_tf(X, y, parameters, regularization, loop_params, batch_params, base_batch_size, step_size):\n",
    "    K = len(loop_params)\n",
    "    total_params = np.prod(loop_params)\n",
    "    n = X.get_shape().as_list()[0]\n",
    "    parameters_history = []\n",
    "    \n",
    "    parameters_references = []\n",
    "    gradients = []\n",
    "    for _ in range(K+1):\n",
    "        param_references = []\n",
    "        grad_references = []\n",
    "        for param in parameters:\n",
    "            param_references.append(param)\n",
    "            grad_references.append(tf.zeros_like(param))\n",
    "        parameters_references.append(param_references)\n",
    "        gradients.append(grad_references)\n",
    "        \n",
    "    indexes = tf.random.shuffle(tf.range(n))\n",
    "    base_batch = indexes[0:base_batch_size]\n",
    "    y_pred = CNN_LeNet(tf.gather(X, base_batch), parameters)\n",
    "    cost = loss(tf.gather(y, base_batch), y_pred, regularization, parameters)\n",
    "    gradients[0] = grad_loss(cost, parameters)\n",
    "    grads = gradients[0]\n",
    "    for i in range(len(parameters)):\n",
    "        for j in range(1, K+1):\n",
    "            grads[i] = grads[i] + gradients[j][i]\n",
    "            \n",
    "        parameters[i] = parameters[i] - 0.1 / step_size * grads[i]\n",
    "    \n",
    "    parameters_history.append(parameters)\n",
    "    \n",
    "    for t in range(1, total_params):\n",
    "        r = find_index(t, loop_params)\n",
    "        parameters_references = update_reference_points_tf(parameters_references, parameters, r)\n",
    "        gradients = update_reference_gradients_tf(X, y, gradients, parameters_references, regularization, r, batch_params, base_batch_size)\n",
    "        \n",
    "        grads = gradients[0]\n",
    "        for i in range(len(parameters)):\n",
    "            for j in range(1, K+1):\n",
    "                grads[i] = grads[i] + gradients[j][i]\n",
    "\n",
    "            parameters[i] = parameters[i] - 0.1 / step_size * grads[i]\n",
    "        parameters_history.append(parameters)\n",
    "        \n",
    "    final_parameters = parameters_history[np.random.choice(len(parameters_history), 1)[0]]\n",
    "    y_pred = CNN_LeNet(X, final_parameters)\n",
    "    final_loss = loss(y, y_pred, regularization, final_parameters)\n",
    "    \n",
    "    return final_parameters, parameters_history[-1], final_loss"
   ]
  },
  {
   "cell_type": "code",
   "execution_count": 24,
   "metadata": {
    "colab": {},
    "colab_type": "code",
    "id": "mI8OfI-V5Tcy"
   },
   "outputs": [],
   "source": [
    "def evaluate(X, y, parameters):\n",
    "    y_pred = CNN_LeNet(X, parameters)\n",
    "    preds = tf.argmax(y_pred, axis=1)\n",
    "    err = 1. - tf.reduce_sum(tf.cast(tf.equal(y, preds), tf.float32)) / y.get_shape().as_list()[0]\n",
    "    return err"
   ]
  },
  {
   "cell_type": "code",
   "execution_count": 25,
   "metadata": {
    "colab": {
     "base_uri": "https://localhost:8080/",
     "height": 68
    },
    "colab_type": "code",
    "id": "XhE_ydKG5Tc4",
    "outputId": "79eaa7f5-2ce6-43ce-dd49-135f305e83a4"
   },
   "outputs": [
    {
     "name": "stdout",
     "output_type": "stream",
     "text": [
      "(60000, 28, 28, 1)\n",
      "(60000, 10)\n",
      "(10000,)\n"
     ]
    }
   ],
   "source": [
    "# load MNIST dataset\n",
    "mnist = tf.keras.datasets.mnist\n",
    "\n",
    "(x_train, y_train),(x_test, y_test) = mnist.load_data()\n",
    "x_train, x_test = x_train / 255.0, x_test / 255.0\n",
    "x_train, x_test = x_train[:, :, :, np.newaxis], x_test[:, :, :, np.newaxis]\n",
    "\n",
    "y_tr = np.zeros((y_train.shape[0], 10))\n",
    "y_tr[np.arange(y_train.shape[0]), y_train] = 1\n",
    "y_te = y_test\n",
    "\n",
    "print(x_train.shape)\n",
    "print(y_tr.shape)\n",
    "print(y_te.shape)"
   ]
  },
  {
   "cell_type": "markdown",
   "metadata": {
    "colab_type": "text",
    "id": "xw_KdxPM5Tc8"
   },
   "source": [
    "### Adam Optimizer"
   ]
  },
  {
   "cell_type": "code",
   "execution_count": 29,
   "metadata": {
    "colab": {
     "base_uri": "https://localhost:8080/",
     "height": 819
    },
    "colab_type": "code",
    "id": "-SnZgHlw5Tc9",
    "outputId": "dfb1c0b8-8a71-4420-896c-cdf999071075"
   },
   "outputs": [
    {
     "name": "stdout",
     "output_type": "stream",
     "text": [
      "Epoch 1/100\n",
      "\tLoss: 2.297025680541992\tTest Error: 0.9017999768257141\n",
      "Epoch 2/100\n",
      "\tLoss: 2.245595932006836\tTest Error: 0.6919000148773193\n",
      "Epoch 3/100\n",
      "\tLoss: 2.108436107635498\tTest Error: 0.5536999702453613\n",
      "Epoch 4/100\n",
      "\tLoss: 1.7710793018341064\tTest Error: 0.3849000334739685\n",
      "Epoch 5/100\n",
      "\tLoss: 1.3572719097137451\tTest Error: 0.37860000133514404\n",
      "Epoch 6/100\n",
      "\tLoss: 1.124529242515564\tTest Error: 0.5058000087738037\n",
      "Epoch 7/100\n",
      "\tLoss: 1.5489146709442139\tTest Error: 0.35190004110336304\n",
      "Epoch 8/100\n",
      "\tLoss: 1.2563804388046265\tTest Error: 0.34049999713897705\n",
      "Epoch 9/100\n",
      "\tLoss: 1.0402867794036865\tTest Error: 0.2646999955177307\n",
      "Epoch 10/100\n",
      "\tLoss: 0.8104929327964783\tTest Error: 0.27900004386901855\n",
      "Epoch 11/100\n",
      "\tLoss: 0.8542360067367554\tTest Error: 0.27310001850128174\n",
      "Epoch 12/100\n",
      "\tLoss: 0.7827306389808655\tTest Error: 0.2535000443458557\n",
      "Epoch 13/100\n",
      "\tLoss: 0.7394123673439026\tTest Error: 0.2232000231742859\n",
      "Epoch 14/100\n",
      "\tLoss: 0.7224968075752258\tTest Error: 0.1812000274658203\n",
      "Epoch 15/100\n",
      "\tLoss: 0.5294890403747559\tTest Error: 0.15500003099441528\n",
      "Epoch 16/100\n",
      "\tLoss: 0.512027382850647\tTest Error: 0.14500004053115845\n",
      "Epoch 17/100\n",
      "\tLoss: 0.4538480043411255\tTest Error: 0.12660002708435059\n",
      "Epoch 18/100\n",
      "\tLoss: 0.48721951246261597\tTest Error: 0.11430001258850098\n",
      "Epoch 19/100\n",
      "\tLoss: 0.4006084203720093\tTest Error: 0.11150002479553223\n",
      "Epoch 20/100\n",
      "\tLoss: 0.4077422618865967\tTest Error: 0.09710001945495605\n",
      "Epoch 21/100\n",
      "\tLoss: 0.3760187029838562\tTest Error: 0.09470003843307495\n",
      "Epoch 22/100\n",
      "\tLoss: 0.3480856418609619\tTest Error: 0.0853000283241272\n",
      "Epoch 23/100\n",
      "\tLoss: 0.3078693747520447\tTest Error: 0.09500002861022949\n",
      "Epoch 24/100\n",
      "\tLoss: 0.3158209025859833\tTest Error: 0.07190001010894775\n",
      "Epoch 25/100\n",
      "\tLoss: 0.2847437262535095\tTest Error: 0.07510000467300415\n",
      "Epoch 26/100\n",
      "\tLoss: 0.25993019342422485\tTest Error: 0.07450002431869507\n",
      "Epoch 27/100\n",
      "\tLoss: 0.24478702247142792\tTest Error: 0.06389999389648438\n",
      "Epoch 28/100\n",
      "\tLoss: 0.16112284362316132\tTest Error: 0.06170004606246948\n",
      "Epoch 29/100\n",
      "\tLoss: 0.1923353374004364\tTest Error: 0.05990004539489746\n",
      "Epoch 30/100\n",
      "\tLoss: 0.23576487600803375\tTest Error: 0.06190001964569092\n",
      "Epoch 31/100\n",
      "\tLoss: 0.2584803104400635\tTest Error: 0.061100006103515625\n",
      "Epoch 32/100\n",
      "\tLoss: 0.2508855164051056\tTest Error: 0.06630003452301025\n",
      "Epoch 33/100\n",
      "\tLoss: 0.22144636511802673\tTest Error: 0.0656999945640564\n",
      "Epoch 34/100\n",
      "\tLoss: 0.35170164704322815\tTest Error: 0.05820000171661377\n",
      "Epoch 35/100\n",
      "\tLoss: 0.2179270088672638\tTest Error: 0.058000028133392334\n",
      "Epoch 36/100\n",
      "\tLoss: 0.18519969284534454\tTest Error: 0.05770003795623779\n",
      "Epoch 37/100\n",
      "\tLoss: 0.17527100443840027\tTest Error: 0.05220001935958862\n",
      "Epoch 38/100\n",
      "\tLoss: 0.21015585958957672\tTest Error: 0.0471000075340271\n",
      "Epoch 39/100\n",
      "\tLoss: 0.14599773287773132\tTest Error: 0.04770004749298096\n",
      "Epoch 40/100\n",
      "\tLoss: 0.15077470242977142\tTest Error: 0.05230003595352173\n",
      "Epoch 41/100\n",
      "\tLoss: 0.180446594953537\tTest Error: 0.05010002851486206\n",
      "Epoch 42/100\n",
      "\tLoss: 0.10447274148464203\tTest Error: 0.047200024127960205\n",
      "Epoch 43/100\n",
      "\tLoss: 0.1513507068157196\tTest Error: 0.04280000925064087\n",
      "Epoch 44/100\n",
      "\tLoss: 0.17857208847999573\tTest Error: 0.04050004482269287\n",
      "Epoch 45/100\n",
      "\tLoss: 0.13192275166511536\tTest Error: 0.04180002212524414\n",
      "Epoch 46/100\n",
      "\tLoss: 0.15074047446250916\tTest Error: 0.046900033950805664\n",
      "Epoch 47/100\n",
      "\tLoss: 0.12729546427726746\tTest Error: 0.04370003938674927\n",
      "Epoch 48/100\n",
      "\tLoss: 0.1649858057498932\tTest Error: 0.03550004959106445\n",
      "Epoch 49/100\n",
      "\tLoss: 0.11032223701477051\tTest Error: 0.03620004653930664\n",
      "Epoch 50/100\n",
      "\tLoss: 0.1379482001066208\tTest Error: 0.03810000419616699\n",
      "Epoch 51/100\n",
      "\tLoss: 0.10092458873987198\tTest Error: 0.04000002145767212\n",
      "Epoch 52/100\n",
      "\tLoss: 0.1262914538383484\tTest Error: 0.03810000419616699\n",
      "Epoch 53/100\n",
      "\tLoss: 0.11636346578598022\tTest Error: 0.03380000591278076\n",
      "Epoch 54/100\n",
      "\tLoss: 0.10135491192340851\tTest Error: 0.03229999542236328\n",
      "Epoch 55/100\n",
      "\tLoss: 0.09347152709960938\tTest Error: 0.03450000286102295\n",
      "Epoch 56/100\n",
      "\tLoss: 0.09209483116865158\tTest Error: 0.03550004959106445\n",
      "Epoch 57/100\n",
      "\tLoss: 0.14821532368659973\tTest Error: 0.03540003299713135\n",
      "Epoch 58/100\n",
      "\tLoss: 0.12116500735282898\tTest Error: 0.0350000262260437\n",
      "Epoch 59/100\n",
      "\tLoss: 0.13183128833770752\tTest Error: 0.03200000524520874\n",
      "Epoch 60/100\n",
      "\tLoss: 0.11418484151363373\tTest Error: 0.0317000150680542\n",
      "Epoch 61/100\n",
      "\tLoss: 0.11821863800287247\tTest Error: 0.033100008964538574\n",
      "Epoch 62/100\n",
      "\tLoss: 0.09602971374988556\tTest Error: 0.03400003910064697\n",
      "Epoch 63/100\n",
      "\tLoss: 0.10561338067054749\tTest Error: 0.03100001811981201\n",
      "Epoch 64/100\n",
      "\tLoss: 0.12020504474639893\tTest Error: 0.029100000858306885\n",
      "Epoch 65/100\n",
      "\tLoss: 0.0937422588467598\tTest Error: 0.02920001745223999\n",
      "Epoch 66/100\n",
      "\tLoss: 0.06823606789112091\tTest Error: 0.03049999475479126\n",
      "Epoch 67/100\n",
      "\tLoss: 0.11685853451490402\tTest Error: 0.030900001525878906\n",
      "Epoch 68/100\n",
      "\tLoss: 0.11441430449485779\tTest Error: 0.030600011348724365\n",
      "Epoch 69/100\n",
      "\tLoss: 0.113910011947155\tTest Error: 0.029000043869018555\n",
      "Epoch 70/100\n",
      "\tLoss: 0.157370463013649\tTest Error: 0.027000010013580322\n",
      "Epoch 71/100\n",
      "\tLoss: 0.12767526507377625\tTest Error: 0.028100013732910156\n",
      "Epoch 72/100\n",
      "\tLoss: 0.07829613238573074\tTest Error: 0.02790004014968872\n",
      "Epoch 73/100\n",
      "\tLoss: 0.11381229758262634\tTest Error: 0.02950000762939453\n",
      "Epoch 74/100\n",
      "\tLoss: 0.08574502170085907\tTest Error: 0.029700040817260742\n",
      "Epoch 75/100\n",
      "\tLoss: 0.10753274708986282\tTest Error: 0.02770000696182251\n",
      "Epoch 76/100\n",
      "\tLoss: 0.06045851111412048\tTest Error: 0.028400003910064697\n",
      "Epoch 77/100\n",
      "\tLoss: 0.12851345539093018\tTest Error: 0.028400003910064697\n",
      "Epoch 78/100\n",
      "\tLoss: 0.10948248207569122\tTest Error: 0.025499999523162842\n",
      "Epoch 79/100\n",
      "\tLoss: 0.07893514633178711\tTest Error: 0.024000048637390137\n",
      "Epoch 80/100\n",
      "\tLoss: 0.07362201809883118\tTest Error: 0.024200022220611572\n",
      "Epoch 81/100\n",
      "\tLoss: 0.09155283868312836\tTest Error: 0.025800049304962158\n",
      "Epoch 82/100\n",
      "\tLoss: 0.09912247210741043\tTest Error: 0.02790004014968872\n",
      "Epoch 83/100\n",
      "\tLoss: 0.07855245471000671\tTest Error: 0.027000010013580322\n",
      "Epoch 84/100\n",
      "\tLoss: 0.08841085433959961\tTest Error: 0.024200022220611572\n",
      "Epoch 85/100\n",
      "\tLoss: 0.07989878207445145\tTest Error: 0.022599995136260986\n",
      "Epoch 86/100\n",
      "\tLoss: 0.1039828509092331\tTest Error: 0.024200022220611572\n",
      "Epoch 87/100\n",
      "\tLoss: 0.04319646954536438\tTest Error: 0.026300013065338135\n",
      "Epoch 88/100\n",
      "\tLoss: 0.09155046939849854\tTest Error: 0.027000010013580322\n",
      "Epoch 89/100\n",
      "\tLoss: 0.07163121551275253\tTest Error: 0.024200022220611572\n",
      "Epoch 90/100\n",
      "\tLoss: 0.07296226918697357\tTest Error: 0.02180004119873047\n",
      "Epoch 91/100\n",
      "\tLoss: 0.07334687560796738\tTest Error: 0.022900044918060303\n",
      "Epoch 92/100\n",
      "\tLoss: 0.06528035551309586\tTest Error: 0.02510005235671997\n",
      "Epoch 93/100\n",
      "\tLoss: 0.05242881923913956\tTest Error: 0.0261000394821167\n",
      "Epoch 94/100\n",
      "\tLoss: 0.055970579385757446\tTest Error: 0.028800010681152344\n",
      "Epoch 95/100\n",
      "\tLoss: 0.1671677827835083\tTest Error: 0.024100005626678467\n",
      "Epoch 96/100\n",
      "\tLoss: 0.1292077898979187\tTest Error: 0.02369999885559082\n",
      "Epoch 97/100\n",
      "\tLoss: 0.10288982093334198\tTest Error: 0.027200043201446533\n",
      "Epoch 98/100\n",
      "\tLoss: 0.13190826773643494\tTest Error: 0.02590000629425049\n",
      "Epoch 99/100\n",
      "\tLoss: 0.11806293576955795\tTest Error: 0.02369999885559082\n",
      "Epoch 100/100\n",
      "\tLoss: 0.09522592276334763\tTest Error: 0.02340000867843628\n"
     ]
    }
   ],
   "source": [
    "tf.reset_default_graph()\n",
    "\n",
    "filter1 = tf.get_variable(name='filter1', shape=(5, 5, 1, 6), initializer=tf.glorot_uniform_initializer())\n",
    "bias1 = tf.get_variable(name='bias1', initializer=tf.zeros((6)))\n",
    "filter2 = tf.get_variable(name='filter2', shape=(5, 5, 6, 16), initializer=tf.glorot_uniform_initializer())\n",
    "bias2 = tf.get_variable(name='bias2', initializer=tf.zeros((16)))\n",
    "W1 = tf.get_variable(name='W1', shape=(400, 120), initializer=tf.glorot_uniform_initializer())\n",
    "b1 = tf.get_variable(name='b1', initializer=tf.zeros((120)))\n",
    "W2 = tf.get_variable(name='W2', shape=(120, 84), initializer=tf.glorot_uniform_initializer())\n",
    "b2 = tf.get_variable(name='b2', initializer=tf.zeros(84))\n",
    "W3 = tf.get_variable(name='W3', shape=(84, 10), initializer=tf.glorot_uniform_initializer())\n",
    "b3 = tf.get_variable(name='b3', initializer=tf.zeros(10))\n",
    "\n",
    "parameters = [filter1, bias1, filter2, bias2, W1, b1, W2, b2, W3, b3]\n",
    "regularization = 0.0\n",
    "lr = 0.01\n",
    "epochs = 100\n",
    "batch_size = 512\n",
    "num_mini_batches = x_train.shape[0] // batch_size\n",
    "\n",
    "X = tf.placeholder(dtype='float32', shape=(None, 28, 28, 1))\n",
    "y = tf.placeholder(dtype='float32', shape=(None, 10))\n",
    "lr_ph = tf.placeholder(dtype='float32', shape=())\n",
    "\n",
    "X_test = tf.placeholder(dtype='float32', shape=(10000, 28, 28, 1))\n",
    "y_test = tf.placeholder(dtype='int64', shape=(10000, ))\n",
    "\n",
    "y_pred = CNN_LeNet(X, parameters)\n",
    "cost = loss(y, y_pred, regularization, parameters)\n",
    "\n",
    "opt = tf.train.AdamOptimizer(learning_rate=lr_ph)\n",
    "optimizer = opt.minimize(cost)\n",
    "\n",
    "init = tf.global_variables_initializer()\n",
    "\n",
    "with tf.Session() as sess:\n",
    "    sess.run(init)\n",
    "#     parameters_history = []\n",
    "    adam_loss_history = []\n",
    "    adam_test_error_history = []\n",
    "    for epoch in range(epochs):\n",
    "#         if epoch % 20 == 0:\n",
    "#             lr *= 0.9\n",
    "        print(\"Epoch {}/{}\".format(epoch+1, epochs))\n",
    "        indexes = np.arange(x_train.shape[0])\n",
    "        np.random.shuffle(indexes)\n",
    "        for batch in range(1):\n",
    "#         for batch in range(num_mini_batches - 1):\n",
    "            x_batch = x_train[indexes[batch * batch_size: (batch+1) * batch_size]]\n",
    "            y_batch = y_tr[indexes[batch * batch_size: (batch+1) * batch_size]]\n",
    "            _, c = sess.run([optimizer, cost], feed_dict={X: x_batch, y: y_batch, lr_ph: lr})\n",
    "#             print(\"Batch: {}\\t Loss: {}\".format(batch, c))\n",
    "            \n",
    "#         x_batch = x_train[indexes[(batch+1) * batch_size:]]\n",
    "#         y_batch = y_tr[indexes[(batch+1) * batch_size:]]\n",
    "#         _, c = sess.run([optimizer, cost], feed_dict={X: x_batch, y: y_batch, lr_ph: lr})\n",
    "# #         print(\"Batch: {}\\t Loss: {}\".format(batch+1, c))\n",
    "        \n",
    "        test_error = evaluate(X_test, y_test, parameters)\n",
    "        err = sess.run(test_error, feed_dict={X_test: x_test, y_test: y_te})\n",
    "        \n",
    "        adam_loss_history.append(c)\n",
    "        adam_test_error_history.append(err)\n",
    "        print(\"\\tLoss: {}\\tTest Error: {}\".format(c, err))"
   ]
  },
  {
   "cell_type": "markdown",
   "metadata": {
    "colab_type": "text",
    "id": "TRyYfovM5TdC"
   },
   "source": [
    "### SVRG Optimizer"
   ]
  },
  {
   "cell_type": "code",
   "execution_count": 28,
   "metadata": {
    "colab": {
     "base_uri": "https://localhost:8080/",
     "height": 1680
    },
    "colab_type": "code",
    "id": "b_5bdmb45TdD",
    "outputId": "6ae8136b-3c8a-4fca-dbd8-201d073f51ae"
   },
   "outputs": [
    {
     "name": "stdout",
     "output_type": "stream",
     "text": [
      "Epoch 1/20\n",
      "Batch: 0\t Loss: 2.3166403770446777\n",
      "Batch: 1\t Loss: 2.3234994411468506\n",
      "Batch: 2\t Loss: 2.3162574768066406\n",
      "Batch: 3\t Loss: 2.3295300006866455\n",
      "Batch: 4\t Loss: 2.3226959705352783\n",
      "Batch: 5\t Loss: 2.3185739517211914\n",
      "Batch: 6\t Loss: 2.3135275840759277\n",
      "Batch: 7\t Loss: 2.310361385345459\n",
      "Batch: 8\t Loss: 2.300560712814331\n",
      "Batch: 9\t Loss: 2.2969512939453125\n",
      "Batch: 10\t Loss: 2.3140320777893066\n",
      "Batch: 11\t Loss: 2.306520462036133\n",
      "Batch: 12\t Loss: 2.315434217453003\n",
      "Batch: 13\t Loss: 2.31846284866333\n",
      "Batch: 14\t Loss: 2.298520803451538\n",
      "Batch: 15\t Loss: 2.300766944885254\n",
      "Batch: 16\t Loss: 2.300045967102051\n",
      "Batch: 17\t Loss: 2.2987613677978516\n",
      "Batch: 18\t Loss: 2.2928411960601807\n",
      "Batch: 19\t Loss: 2.3043787479400635\n",
      "Batch: 20\t Loss: 2.298440456390381\n",
      "Batch: 21\t Loss: 2.3059768676757812\n",
      "Batch: 22\t Loss: 2.294304609298706\n",
      "Batch: 23\t Loss: 2.3008201122283936\n",
      "Batch: 24\t Loss: 2.2963995933532715\n",
      "Batch: 25\t Loss: 2.29807710647583\n",
      "Batch: 26\t Loss: 2.2792723178863525\n",
      "Batch: 27\t Loss: 2.2910618782043457\n",
      "Batch: 28\t Loss: 2.2867095470428467\n",
      "Batch: 29\t Loss: 2.2934212684631348\n",
      "Batch: 30\t Loss: 2.283079147338867\n",
      "Batch: 31\t Loss: 2.3001885414123535\n",
      "Batch: 32\t Loss: 2.303978681564331\n",
      "Batch: 33\t Loss: 2.273430824279785\n",
      "Batch: 34\t Loss: 2.2845726013183594\n",
      "Batch: 35\t Loss: 2.287029504776001\n",
      "Batch: 36\t Loss: 2.2848827838897705\n",
      "Batch: 37\t Loss: 2.290069580078125\n",
      "Batch: 38\t Loss: 2.2919387817382812\n",
      "Batch: 39\t Loss: 2.288644790649414\n",
      "Batch: 40\t Loss: 2.295280933380127\n"
     ]
    },
    {
     "ename": "KeyboardInterrupt",
     "evalue": "ignored",
     "output_type": "error",
     "traceback": [
      "\u001b[0;31m---------------------------------------------------------------------------\u001b[0m",
      "\u001b[0;31mKeyboardInterrupt\u001b[0m                         Traceback (most recent call last)",
      "\u001b[0;32m<ipython-input-28-863c46c8e09d>\u001b[0m in \u001b[0;36m<module>\u001b[0;34m()\u001b[0m\n\u001b[1;32m     47\u001b[0m             \u001b[0my_batch\u001b[0m \u001b[0;34m=\u001b[0m \u001b[0my_tr\u001b[0m\u001b[0;34m[\u001b[0m\u001b[0mindexes\u001b[0m\u001b[0;34m[\u001b[0m\u001b[0mbatch\u001b[0m \u001b[0;34m*\u001b[0m \u001b[0mbatch_size\u001b[0m\u001b[0;34m:\u001b[0m \u001b[0;34m(\u001b[0m\u001b[0mbatch\u001b[0m\u001b[0;34m+\u001b[0m\u001b[0;36m1\u001b[0m\u001b[0;34m)\u001b[0m \u001b[0;34m*\u001b[0m \u001b[0mbatch_size\u001b[0m\u001b[0;34m]\u001b[0m\u001b[0;34m]\u001b[0m\u001b[0;34m\u001b[0m\u001b[0;34m\u001b[0m\u001b[0m\n\u001b[1;32m     48\u001b[0m             \u001b[0mparameters\u001b[0m\u001b[0;34m,\u001b[0m \u001b[0mc\u001b[0m \u001b[0;34m=\u001b[0m \u001b[0mone_epoch_SVRG_tf\u001b[0m\u001b[0;34m(\u001b[0m\u001b[0mX\u001b[0m\u001b[0;34m,\u001b[0m \u001b[0my\u001b[0m\u001b[0;34m,\u001b[0m \u001b[0mparameters\u001b[0m\u001b[0;34m,\u001b[0m \u001b[0mregularization\u001b[0m\u001b[0;34m,\u001b[0m \u001b[0mmax_iter_inner\u001b[0m\u001b[0;34m,\u001b[0m \u001b[0mstep_size\u001b[0m\u001b[0;34m)\u001b[0m\u001b[0;34m\u001b[0m\u001b[0;34m\u001b[0m\u001b[0m\n\u001b[0;32m---> 49\u001b[0;31m             \u001b[0mparam\u001b[0m\u001b[0;34m,\u001b[0m \u001b[0mcost\u001b[0m \u001b[0;34m=\u001b[0m \u001b[0msess\u001b[0m\u001b[0;34m.\u001b[0m\u001b[0mrun\u001b[0m\u001b[0;34m(\u001b[0m\u001b[0;34m[\u001b[0m\u001b[0mparameters\u001b[0m\u001b[0;34m,\u001b[0m \u001b[0mc\u001b[0m\u001b[0;34m]\u001b[0m\u001b[0;34m,\u001b[0m \u001b[0mfeed_dict\u001b[0m\u001b[0;34m=\u001b[0m\u001b[0;34m{\u001b[0m\u001b[0mX\u001b[0m\u001b[0;34m:\u001b[0m \u001b[0mx_batch\u001b[0m\u001b[0;34m,\u001b[0m \u001b[0my\u001b[0m\u001b[0;34m:\u001b[0m \u001b[0my_batch\u001b[0m\u001b[0;34m,\u001b[0m \u001b[0mstep_size\u001b[0m\u001b[0;34m:\u001b[0m \u001b[0mlr\u001b[0m\u001b[0;34m}\u001b[0m\u001b[0;34m)\u001b[0m\u001b[0;34m\u001b[0m\u001b[0;34m\u001b[0m\u001b[0m\n\u001b[0m\u001b[1;32m     50\u001b[0m             \u001b[0mprint\u001b[0m\u001b[0;34m(\u001b[0m\u001b[0;34m\"Batch: {}\\t Loss: {}\"\u001b[0m\u001b[0;34m.\u001b[0m\u001b[0mformat\u001b[0m\u001b[0;34m(\u001b[0m\u001b[0mbatch\u001b[0m\u001b[0;34m,\u001b[0m \u001b[0mcost\u001b[0m\u001b[0;34m)\u001b[0m\u001b[0;34m)\u001b[0m\u001b[0;34m\u001b[0m\u001b[0;34m\u001b[0m\u001b[0m\n\u001b[1;32m     51\u001b[0m \u001b[0;34m\u001b[0m\u001b[0m\n",
      "\u001b[0;32m/usr/local/lib/python3.6/dist-packages/tensorflow/python/client/session.py\u001b[0m in \u001b[0;36mrun\u001b[0;34m(self, fetches, feed_dict, options, run_metadata)\u001b[0m\n\u001b[1;32m    927\u001b[0m     \u001b[0;32mtry\u001b[0m\u001b[0;34m:\u001b[0m\u001b[0;34m\u001b[0m\u001b[0;34m\u001b[0m\u001b[0m\n\u001b[1;32m    928\u001b[0m       result = self._run(None, fetches, feed_dict, options_ptr,\n\u001b[0;32m--> 929\u001b[0;31m                          run_metadata_ptr)\n\u001b[0m\u001b[1;32m    930\u001b[0m       \u001b[0;32mif\u001b[0m \u001b[0mrun_metadata\u001b[0m\u001b[0;34m:\u001b[0m\u001b[0;34m\u001b[0m\u001b[0;34m\u001b[0m\u001b[0m\n\u001b[1;32m    931\u001b[0m         \u001b[0mproto_data\u001b[0m \u001b[0;34m=\u001b[0m \u001b[0mtf_session\u001b[0m\u001b[0;34m.\u001b[0m\u001b[0mTF_GetBuffer\u001b[0m\u001b[0;34m(\u001b[0m\u001b[0mrun_metadata_ptr\u001b[0m\u001b[0;34m)\u001b[0m\u001b[0;34m\u001b[0m\u001b[0;34m\u001b[0m\u001b[0m\n",
      "\u001b[0;32m/usr/local/lib/python3.6/dist-packages/tensorflow/python/client/session.py\u001b[0m in \u001b[0;36m_run\u001b[0;34m(self, handle, fetches, feed_dict, options, run_metadata)\u001b[0m\n\u001b[1;32m   1150\u001b[0m     \u001b[0;32mif\u001b[0m \u001b[0mfinal_fetches\u001b[0m \u001b[0;32mor\u001b[0m \u001b[0mfinal_targets\u001b[0m \u001b[0;32mor\u001b[0m \u001b[0;34m(\u001b[0m\u001b[0mhandle\u001b[0m \u001b[0;32mand\u001b[0m \u001b[0mfeed_dict_tensor\u001b[0m\u001b[0;34m)\u001b[0m\u001b[0;34m:\u001b[0m\u001b[0;34m\u001b[0m\u001b[0;34m\u001b[0m\u001b[0m\n\u001b[1;32m   1151\u001b[0m       results = self._do_run(handle, final_targets, final_fetches,\n\u001b[0;32m-> 1152\u001b[0;31m                              feed_dict_tensor, options, run_metadata)\n\u001b[0m\u001b[1;32m   1153\u001b[0m     \u001b[0;32melse\u001b[0m\u001b[0;34m:\u001b[0m\u001b[0;34m\u001b[0m\u001b[0;34m\u001b[0m\u001b[0m\n\u001b[1;32m   1154\u001b[0m       \u001b[0mresults\u001b[0m \u001b[0;34m=\u001b[0m \u001b[0;34m[\u001b[0m\u001b[0;34m]\u001b[0m\u001b[0;34m\u001b[0m\u001b[0;34m\u001b[0m\u001b[0m\n",
      "\u001b[0;32m/usr/local/lib/python3.6/dist-packages/tensorflow/python/client/session.py\u001b[0m in \u001b[0;36m_do_run\u001b[0;34m(self, handle, target_list, fetch_list, feed_dict, options, run_metadata)\u001b[0m\n\u001b[1;32m   1326\u001b[0m     \u001b[0;32mif\u001b[0m \u001b[0mhandle\u001b[0m \u001b[0;32mis\u001b[0m \u001b[0;32mNone\u001b[0m\u001b[0;34m:\u001b[0m\u001b[0;34m\u001b[0m\u001b[0;34m\u001b[0m\u001b[0m\n\u001b[1;32m   1327\u001b[0m       return self._do_call(_run_fn, feeds, fetches, targets, options,\n\u001b[0;32m-> 1328\u001b[0;31m                            run_metadata)\n\u001b[0m\u001b[1;32m   1329\u001b[0m     \u001b[0;32melse\u001b[0m\u001b[0;34m:\u001b[0m\u001b[0;34m\u001b[0m\u001b[0;34m\u001b[0m\u001b[0m\n\u001b[1;32m   1330\u001b[0m       \u001b[0;32mreturn\u001b[0m \u001b[0mself\u001b[0m\u001b[0;34m.\u001b[0m\u001b[0m_do_call\u001b[0m\u001b[0;34m(\u001b[0m\u001b[0m_prun_fn\u001b[0m\u001b[0;34m,\u001b[0m \u001b[0mhandle\u001b[0m\u001b[0;34m,\u001b[0m \u001b[0mfeeds\u001b[0m\u001b[0;34m,\u001b[0m \u001b[0mfetches\u001b[0m\u001b[0;34m)\u001b[0m\u001b[0;34m\u001b[0m\u001b[0;34m\u001b[0m\u001b[0m\n",
      "\u001b[0;32m/usr/local/lib/python3.6/dist-packages/tensorflow/python/client/session.py\u001b[0m in \u001b[0;36m_do_call\u001b[0;34m(self, fn, *args)\u001b[0m\n\u001b[1;32m   1332\u001b[0m   \u001b[0;32mdef\u001b[0m \u001b[0m_do_call\u001b[0m\u001b[0;34m(\u001b[0m\u001b[0mself\u001b[0m\u001b[0;34m,\u001b[0m \u001b[0mfn\u001b[0m\u001b[0;34m,\u001b[0m \u001b[0;34m*\u001b[0m\u001b[0margs\u001b[0m\u001b[0;34m)\u001b[0m\u001b[0;34m:\u001b[0m\u001b[0;34m\u001b[0m\u001b[0;34m\u001b[0m\u001b[0m\n\u001b[1;32m   1333\u001b[0m     \u001b[0;32mtry\u001b[0m\u001b[0;34m:\u001b[0m\u001b[0;34m\u001b[0m\u001b[0;34m\u001b[0m\u001b[0m\n\u001b[0;32m-> 1334\u001b[0;31m       \u001b[0;32mreturn\u001b[0m \u001b[0mfn\u001b[0m\u001b[0;34m(\u001b[0m\u001b[0;34m*\u001b[0m\u001b[0margs\u001b[0m\u001b[0;34m)\u001b[0m\u001b[0;34m\u001b[0m\u001b[0;34m\u001b[0m\u001b[0m\n\u001b[0m\u001b[1;32m   1335\u001b[0m     \u001b[0;32mexcept\u001b[0m \u001b[0merrors\u001b[0m\u001b[0;34m.\u001b[0m\u001b[0mOpError\u001b[0m \u001b[0;32mas\u001b[0m \u001b[0me\u001b[0m\u001b[0;34m:\u001b[0m\u001b[0;34m\u001b[0m\u001b[0;34m\u001b[0m\u001b[0m\n\u001b[1;32m   1336\u001b[0m       \u001b[0mmessage\u001b[0m \u001b[0;34m=\u001b[0m \u001b[0mcompat\u001b[0m\u001b[0;34m.\u001b[0m\u001b[0mas_text\u001b[0m\u001b[0;34m(\u001b[0m\u001b[0me\u001b[0m\u001b[0;34m.\u001b[0m\u001b[0mmessage\u001b[0m\u001b[0;34m)\u001b[0m\u001b[0;34m\u001b[0m\u001b[0;34m\u001b[0m\u001b[0m\n",
      "\u001b[0;32m/usr/local/lib/python3.6/dist-packages/tensorflow/python/client/session.py\u001b[0m in \u001b[0;36m_run_fn\u001b[0;34m(feed_dict, fetch_list, target_list, options, run_metadata)\u001b[0m\n\u001b[1;32m   1317\u001b[0m       \u001b[0mself\u001b[0m\u001b[0;34m.\u001b[0m\u001b[0m_extend_graph\u001b[0m\u001b[0;34m(\u001b[0m\u001b[0;34m)\u001b[0m\u001b[0;34m\u001b[0m\u001b[0;34m\u001b[0m\u001b[0m\n\u001b[1;32m   1318\u001b[0m       return self._call_tf_sessionrun(\n\u001b[0;32m-> 1319\u001b[0;31m           options, feed_dict, fetch_list, target_list, run_metadata)\n\u001b[0m\u001b[1;32m   1320\u001b[0m \u001b[0;34m\u001b[0m\u001b[0m\n\u001b[1;32m   1321\u001b[0m     \u001b[0;32mdef\u001b[0m \u001b[0m_prun_fn\u001b[0m\u001b[0;34m(\u001b[0m\u001b[0mhandle\u001b[0m\u001b[0;34m,\u001b[0m \u001b[0mfeed_dict\u001b[0m\u001b[0;34m,\u001b[0m \u001b[0mfetch_list\u001b[0m\u001b[0;34m)\u001b[0m\u001b[0;34m:\u001b[0m\u001b[0;34m\u001b[0m\u001b[0;34m\u001b[0m\u001b[0m\n",
      "\u001b[0;32m/usr/local/lib/python3.6/dist-packages/tensorflow/python/client/session.py\u001b[0m in \u001b[0;36m_call_tf_sessionrun\u001b[0;34m(self, options, feed_dict, fetch_list, target_list, run_metadata)\u001b[0m\n\u001b[1;32m   1405\u001b[0m     return tf_session.TF_SessionRun_wrapper(\n\u001b[1;32m   1406\u001b[0m         \u001b[0mself\u001b[0m\u001b[0;34m.\u001b[0m\u001b[0m_session\u001b[0m\u001b[0;34m,\u001b[0m \u001b[0moptions\u001b[0m\u001b[0;34m,\u001b[0m \u001b[0mfeed_dict\u001b[0m\u001b[0;34m,\u001b[0m \u001b[0mfetch_list\u001b[0m\u001b[0;34m,\u001b[0m \u001b[0mtarget_list\u001b[0m\u001b[0;34m,\u001b[0m\u001b[0;34m\u001b[0m\u001b[0;34m\u001b[0m\u001b[0m\n\u001b[0;32m-> 1407\u001b[0;31m         run_metadata)\n\u001b[0m\u001b[1;32m   1408\u001b[0m \u001b[0;34m\u001b[0m\u001b[0m\n\u001b[1;32m   1409\u001b[0m   \u001b[0;32mdef\u001b[0m \u001b[0m_call_tf_sessionprun\u001b[0m\u001b[0;34m(\u001b[0m\u001b[0mself\u001b[0m\u001b[0;34m,\u001b[0m \u001b[0mhandle\u001b[0m\u001b[0;34m,\u001b[0m \u001b[0mfeed_dict\u001b[0m\u001b[0;34m,\u001b[0m \u001b[0mfetch_list\u001b[0m\u001b[0;34m)\u001b[0m\u001b[0;34m:\u001b[0m\u001b[0;34m\u001b[0m\u001b[0;34m\u001b[0m\u001b[0m\n",
      "\u001b[0;31mKeyboardInterrupt\u001b[0m: "
     ]
    }
   ],
   "source": [
    "tf.reset_default_graph()\n",
    "\n",
    "filter1 = tf.get_variable(name='filter1', shape=(5, 5, 1, 6), initializer=tf.glorot_uniform_initializer())\n",
    "bias1 = tf.get_variable(name='bias1', initializer=tf.zeros((6)))\n",
    "filter2 = tf.get_variable(name='filter2', shape=(5, 5, 6, 16), initializer=tf.glorot_uniform_initializer())\n",
    "bias2 = tf.get_variable(name='bias2', initializer=tf.zeros((16)))\n",
    "W1 = tf.get_variable(name='W1', shape=(400, 120), initializer=tf.glorot_uniform_initializer())\n",
    "b1 = tf.get_variable(name='b1', initializer=tf.zeros((120)))\n",
    "W2 = tf.get_variable(name='W2', shape=(120, 84), initializer=tf.glorot_uniform_initializer())\n",
    "b2 = tf.get_variable(name='b2', initializer=tf.zeros(84))\n",
    "W3 = tf.get_variable(name='W3', shape=(84, 10), initializer=tf.glorot_uniform_initializer())\n",
    "b3 = tf.get_variable(name='b3', initializer=tf.zeros(10))\n",
    "\n",
    "parameters = [filter1, bias1, filter2, bias2, W1, b1, W2, b2, W3, b3]\n",
    "regularization = 0.0\n",
    "max_iter_inner = 64\n",
    "lr = 0.01\n",
    "epochs = 100\n",
    "batch_size = 512\n",
    "num_mini_batches = x_train.shape[0] // batch_size\n",
    "\n",
    "X = tf.placeholder(dtype='float32', shape=(batch_size, 28, 28, 1))\n",
    "y = tf.placeholder(dtype='float32', shape=(batch_size, 10))\n",
    "step_size = tf.placeholder(dtype='float32', shape=())\n",
    "\n",
    "X_test = tf.placeholder(dtype='float32', shape=(10000, 28, 28, 1))\n",
    "y_test = tf.placeholder(dtype='int64', shape=(10000, ))\n",
    "\n",
    "y_pred = CNN_LeNet(X, parameters)\n",
    "cost = loss(y, y_pred, regularization, parameters)\n",
    "\n",
    "init = tf.global_variables_initializer()\n",
    "\n",
    "with tf.Session() as sess:\n",
    "    sess.run(init)\n",
    "#     parameters_history = []\n",
    "    svrg_loss_history = []\n",
    "    svrg_test_error_history = []\n",
    "    for epoch in range(epochs):\n",
    "#         if epoch % 10 == 0:\n",
    "#             lr *= 0.1\n",
    "        print(\"Epoch {}/{}\".format(epoch+1, epochs))\n",
    "        indexes = np.arange(x_train.shape[0])\n",
    "        np.random.shuffle(indexes)\n",
    "        for batch in range(1):\n",
    "#         for batch in range(num_mini_batches - 1):\n",
    "            x_batch = x_train[indexes[batch * batch_size: (batch+1) * batch_size]]\n",
    "            y_batch = y_tr[indexes[batch * batch_size: (batch+1) * batch_size]]\n",
    "            parameters, c = one_epoch_SVRG_tf(X, y, parameters, regularization, max_iter_inner, step_size)\n",
    "            param, cost = sess.run([parameters, c], feed_dict={X: x_batch, y: y_batch, step_size: lr})\n",
    "            print(\"Batch: {}\\t Loss: {}\".format(batch, cost))\n",
    "        \n",
    "#         parameters_history.append(param_hat)\n",
    "        test_error = evaluate(X_test, y_test, parameters)\n",
    "        err = sess.run(test_error, feed_dict={X_test: x_test, y_test: y_te})\n",
    "        \n",
    "        svrg_loss_history.append(cost)\n",
    "        svrg_test_error_history.append(err)\n",
    "        print(\"\\tLoss: {}\".format(cost))\n",
    "        print(\"\\tTest Error: {}\".format(err))"
   ]
  },
  {
   "cell_type": "code",
   "execution_count": 36,
   "metadata": {
    "colab": {
     "base_uri": "https://localhost:8080/",
     "height": 612
    },
    "colab_type": "code",
    "id": "LxkjtR835TdH",
    "outputId": "0dd6f267-4ac4-4f30-8be8-373b2a4b7217"
   },
   "outputs": [
    {
     "name": "stdout",
     "output_type": "stream",
     "text": [
      "Epoch 1/100\n",
      "Batch: 0\t Loss: 2.284475326538086\n",
      "\tLoss: 2.284475326538086\n",
      "\tTest Error: 0.8460999727249146\n",
      "Epoch 2/100\n",
      "Batch: 0\t Loss: 2.2711002826690674\n",
      "\tLoss: 2.2711002826690674\n",
      "\tTest Error: 0.8377000093460083\n",
      "Epoch 3/100\n",
      "Batch: 0\t Loss: 2.262795925140381\n",
      "\tLoss: 2.262795925140381\n",
      "\tTest Error: 0.8446000218391418\n",
      "Epoch 4/100\n",
      "Batch: 0\t Loss: 2.2603368759155273\n",
      "\tLoss: 2.2603368759155273\n",
      "\tTest Error: 0.796500027179718\n",
      "Epoch 5/100\n",
      "Batch: 0\t Loss: 2.2330243587493896\n",
      "\tLoss: 2.2330243587493896\n",
      "\tTest Error: 0.7569000124931335\n",
      "Epoch 6/100\n",
      "Batch: 0\t Loss: 2.2126200199127197\n",
      "\tLoss: 2.2126200199127197\n",
      "\tTest Error: 0.7350000143051147\n",
      "Epoch 7/100\n",
      "Batch: 0\t Loss: 2.1837048530578613\n",
      "\tLoss: 2.1837048530578613\n",
      "\tTest Error: 0.6878000497817993\n",
      "Epoch 8/100\n",
      "Batch: 0\t Loss: 2.207174777984619\n",
      "\tLoss: 2.207174777984619\n",
      "\tTest Error: 0.7303000092506409\n",
      "Epoch 9/100\n",
      "Batch: 0\t Loss: 2.099020004272461\n",
      "\tLoss: 2.099020004272461\n",
      "\tTest Error: 0.6638000011444092\n",
      "Epoch 10/100\n",
      "Batch: 0\t Loss: 2.0052504539489746\n",
      "\tLoss: 2.0052504539489746\n",
      "\tTest Error: 0.6703000068664551\n",
      "Epoch 11/100\n",
      "Batch: 0\t Loss: 1.9747161865234375\n",
      "\tLoss: 1.9747161865234375\n",
      "\tTest Error: 0.5335000157356262\n",
      "Epoch 12/100\n",
      "Batch: 0\t Loss: 1.8608782291412354\n",
      "\tLoss: 1.8608782291412354\n",
      "\tTest Error: 0.5163000226020813\n",
      "Epoch 13/100\n",
      "Batch: 0\t Loss: 1.7387585639953613\n",
      "\tLoss: 1.7387585639953613\n",
      "\tTest Error: 0.5784000158309937\n",
      "Epoch 14/100\n",
      "Batch: 0\t Loss: 2.082625389099121\n",
      "\tLoss: 2.082625389099121\n",
      "\tTest Error: 0.8269000053405762\n",
      "Epoch 15/100\n",
      "Batch: 0\t Loss: 2.2694504261016846\n",
      "\tLoss: 2.2694504261016846\n",
      "\tTest Error: 0.8600000143051147\n",
      "Epoch 16/100\n",
      "Batch: 0\t Loss: 2.3190386295318604\n",
      "\tLoss: 2.3190386295318604\n",
      "\tTest Error: 0.9020000100135803\n",
      "Epoch 17/100\n",
      "Batch: 0\t Loss: 2.3234615325927734\n",
      "\tLoss: 2.3234615325927734\n",
      "\tTest Error: 0.8906000256538391\n",
      "Epoch 18/100\n",
      "Batch: 0\t Loss: 2.293656826019287\n",
      "\tLoss: 2.293656826019287\n",
      "\tTest Error: 0.8914999961853027\n",
      "Epoch 19/100\n",
      "Batch: 0\t Loss: 2.280302047729492\n",
      "\tLoss: 2.280302047729492\n",
      "\tTest Error: 0.7821999788284302\n",
      "Epoch 20/100\n",
      "Batch: 0\t Loss: nan\n"
     ]
    },
    {
     "ename": "KeyboardInterrupt",
     "evalue": "",
     "output_type": "error",
     "traceback": [
      "\u001b[0;31m---------------------------------------------------------------------------\u001b[0m",
      "\u001b[0;31mKeyboardInterrupt\u001b[0m                         Traceback (most recent call last)",
      "\u001b[0;32m/Applications/anaconda/lib/python3.5/contextlib.py\u001b[0m in \u001b[0;36m__exit__\u001b[0;34m(self, type, value, traceback)\u001b[0m\n\u001b[1;32m     76\u001b[0m             \u001b[0;32mtry\u001b[0m\u001b[0;34m:\u001b[0m\u001b[0;34m\u001b[0m\u001b[0m\n\u001b[0;32m---> 77\u001b[0;31m                 \u001b[0mself\u001b[0m\u001b[0;34m.\u001b[0m\u001b[0mgen\u001b[0m\u001b[0;34m.\u001b[0m\u001b[0mthrow\u001b[0m\u001b[0;34m(\u001b[0m\u001b[0mtype\u001b[0m\u001b[0;34m,\u001b[0m \u001b[0mvalue\u001b[0m\u001b[0;34m,\u001b[0m \u001b[0mtraceback\u001b[0m\u001b[0;34m)\u001b[0m\u001b[0;34m\u001b[0m\u001b[0m\n\u001b[0m\u001b[1;32m     78\u001b[0m                 \u001b[0;32mraise\u001b[0m \u001b[0mRuntimeError\u001b[0m\u001b[0;34m(\u001b[0m\u001b[0;34m\"generator didn't stop after throw()\"\u001b[0m\u001b[0;34m)\u001b[0m\u001b[0;34m\u001b[0m\u001b[0m\n",
      "\u001b[0;32m/Applications/anaconda/lib/python3.5/site-packages/tensorflow/python/framework/ops.py\u001b[0m in \u001b[0;36mget_controller\u001b[0;34m(self, default)\u001b[0m\n\u001b[1;32m   5228\u001b[0m           default) as g, context.graph_mode():\n\u001b[0;32m-> 5229\u001b[0;31m         \u001b[0;32myield\u001b[0m \u001b[0mg\u001b[0m\u001b[0;34m\u001b[0m\u001b[0m\n\u001b[0m\u001b[1;32m   5230\u001b[0m     \u001b[0;32mfinally\u001b[0m\u001b[0;34m:\u001b[0m\u001b[0;34m\u001b[0m\u001b[0m\n",
      "\u001b[0;32m<ipython-input-36-8e75f38c11e0>\u001b[0m in \u001b[0;36m<module>\u001b[0;34m()\u001b[0m\n\u001b[1;32m     55\u001b[0m         \u001b[0mtest_error\u001b[0m \u001b[0;34m=\u001b[0m \u001b[0mevaluate\u001b[0m\u001b[0;34m(\u001b[0m\u001b[0mX_test\u001b[0m\u001b[0;34m,\u001b[0m \u001b[0my_test\u001b[0m\u001b[0;34m,\u001b[0m \u001b[0mparam_hat\u001b[0m\u001b[0;34m)\u001b[0m\u001b[0;34m\u001b[0m\u001b[0m\n\u001b[0;32m---> 56\u001b[0;31m         \u001b[0merr\u001b[0m \u001b[0;34m=\u001b[0m \u001b[0msess\u001b[0m\u001b[0;34m.\u001b[0m\u001b[0mrun\u001b[0m\u001b[0;34m(\u001b[0m\u001b[0mtest_error\u001b[0m\u001b[0;34m,\u001b[0m \u001b[0mfeed_dict\u001b[0m\u001b[0;34m=\u001b[0m\u001b[0;34m{\u001b[0m\u001b[0mX_test\u001b[0m\u001b[0;34m:\u001b[0m \u001b[0mx_test\u001b[0m\u001b[0;34m,\u001b[0m \u001b[0my_test\u001b[0m\u001b[0;34m:\u001b[0m \u001b[0my_te\u001b[0m\u001b[0;34m}\u001b[0m\u001b[0;34m)\u001b[0m\u001b[0;34m\u001b[0m\u001b[0m\n\u001b[0m\u001b[1;32m     57\u001b[0m \u001b[0;34m\u001b[0m\u001b[0m\n",
      "\u001b[0;32m/Applications/anaconda/lib/python3.5/site-packages/tensorflow/python/client/session.py\u001b[0m in \u001b[0;36mrun\u001b[0;34m(self, fetches, feed_dict, options, run_metadata)\u001b[0m\n\u001b[1;32m    928\u001b[0m       result = self._run(None, fetches, feed_dict, options_ptr,\n\u001b[0;32m--> 929\u001b[0;31m                          run_metadata_ptr)\n\u001b[0m\u001b[1;32m    930\u001b[0m       \u001b[0;32mif\u001b[0m \u001b[0mrun_metadata\u001b[0m\u001b[0;34m:\u001b[0m\u001b[0;34m\u001b[0m\u001b[0m\n",
      "\u001b[0;32m/Applications/anaconda/lib/python3.5/site-packages/tensorflow/python/client/session.py\u001b[0m in \u001b[0;36m_run\u001b[0;34m(self, handle, fetches, feed_dict, options, run_metadata)\u001b[0m\n\u001b[1;32m   1151\u001b[0m       results = self._do_run(handle, final_targets, final_fetches,\n\u001b[0;32m-> 1152\u001b[0;31m                              feed_dict_tensor, options, run_metadata)\n\u001b[0m\u001b[1;32m   1153\u001b[0m     \u001b[0;32melse\u001b[0m\u001b[0;34m:\u001b[0m\u001b[0;34m\u001b[0m\u001b[0m\n",
      "\u001b[0;32m/Applications/anaconda/lib/python3.5/site-packages/tensorflow/python/client/session.py\u001b[0m in \u001b[0;36m_do_run\u001b[0;34m(self, handle, target_list, fetch_list, feed_dict, options, run_metadata)\u001b[0m\n\u001b[1;32m   1327\u001b[0m       return self._do_call(_run_fn, feeds, fetches, targets, options,\n\u001b[0;32m-> 1328\u001b[0;31m                            run_metadata)\n\u001b[0m\u001b[1;32m   1329\u001b[0m     \u001b[0;32melse\u001b[0m\u001b[0;34m:\u001b[0m\u001b[0;34m\u001b[0m\u001b[0m\n",
      "\u001b[0;32m/Applications/anaconda/lib/python3.5/site-packages/tensorflow/python/client/session.py\u001b[0m in \u001b[0;36m_do_call\u001b[0;34m(self, fn, *args)\u001b[0m\n\u001b[1;32m   1333\u001b[0m     \u001b[0;32mtry\u001b[0m\u001b[0;34m:\u001b[0m\u001b[0;34m\u001b[0m\u001b[0m\n\u001b[0;32m-> 1334\u001b[0;31m       \u001b[0;32mreturn\u001b[0m \u001b[0mfn\u001b[0m\u001b[0;34m(\u001b[0m\u001b[0;34m*\u001b[0m\u001b[0margs\u001b[0m\u001b[0;34m)\u001b[0m\u001b[0;34m\u001b[0m\u001b[0m\n\u001b[0m\u001b[1;32m   1335\u001b[0m     \u001b[0;32mexcept\u001b[0m \u001b[0merrors\u001b[0m\u001b[0;34m.\u001b[0m\u001b[0mOpError\u001b[0m \u001b[0;32mas\u001b[0m \u001b[0me\u001b[0m\u001b[0;34m:\u001b[0m\u001b[0;34m\u001b[0m\u001b[0m\n",
      "\u001b[0;32m/Applications/anaconda/lib/python3.5/site-packages/tensorflow/python/client/session.py\u001b[0m in \u001b[0;36m_run_fn\u001b[0;34m(feed_dict, fetch_list, target_list, options, run_metadata)\u001b[0m\n\u001b[1;32m   1316\u001b[0m       \u001b[0;31m# Ensure any changes to the graph are reflected in the runtime.\u001b[0m\u001b[0;34m\u001b[0m\u001b[0;34m\u001b[0m\u001b[0m\n\u001b[0;32m-> 1317\u001b[0;31m       \u001b[0mself\u001b[0m\u001b[0;34m.\u001b[0m\u001b[0m_extend_graph\u001b[0m\u001b[0;34m(\u001b[0m\u001b[0;34m)\u001b[0m\u001b[0;34m\u001b[0m\u001b[0m\n\u001b[0m\u001b[1;32m   1318\u001b[0m       return self._call_tf_sessionrun(\n",
      "\u001b[0;32m/Applications/anaconda/lib/python3.5/site-packages/tensorflow/python/client/session.py\u001b[0m in \u001b[0;36m_extend_graph\u001b[0;34m(self)\u001b[0m\n\u001b[1;32m   1351\u001b[0m     \u001b[0;32mwith\u001b[0m \u001b[0mself\u001b[0m\u001b[0;34m.\u001b[0m\u001b[0m_graph\u001b[0m\u001b[0;34m.\u001b[0m\u001b[0m_session_run_lock\u001b[0m\u001b[0;34m(\u001b[0m\u001b[0;34m)\u001b[0m\u001b[0;34m:\u001b[0m  \u001b[0;31m# pylint: disable=protected-access\u001b[0m\u001b[0;34m\u001b[0m\u001b[0m\n\u001b[0;32m-> 1352\u001b[0;31m       \u001b[0mtf_session\u001b[0m\u001b[0;34m.\u001b[0m\u001b[0mExtendSession\u001b[0m\u001b[0;34m(\u001b[0m\u001b[0mself\u001b[0m\u001b[0;34m.\u001b[0m\u001b[0m_session\u001b[0m\u001b[0;34m)\u001b[0m\u001b[0;34m\u001b[0m\u001b[0m\n\u001b[0m\u001b[1;32m   1353\u001b[0m \u001b[0;34m\u001b[0m\u001b[0m\n",
      "\u001b[0;31mKeyboardInterrupt\u001b[0m: ",
      "\nDuring handling of the above exception, another exception occurred:\n",
      "\u001b[0;31mKeyboardInterrupt\u001b[0m                         Traceback (most recent call last)",
      "\u001b[0;32m<ipython-input-36-8e75f38c11e0>\u001b[0m in \u001b[0;36m<module>\u001b[0;34m()\u001b[0m\n\u001b[1;32m     59\u001b[0m         \u001b[0msnvrg_test_error_history\u001b[0m\u001b[0;34m.\u001b[0m\u001b[0mappend\u001b[0m\u001b[0;34m(\u001b[0m\u001b[0merr\u001b[0m\u001b[0;34m)\u001b[0m\u001b[0;34m\u001b[0m\u001b[0m\n\u001b[1;32m     60\u001b[0m         \u001b[0mprint\u001b[0m\u001b[0;34m(\u001b[0m\u001b[0;34m\"\\tLoss: {}\"\u001b[0m\u001b[0;34m.\u001b[0m\u001b[0mformat\u001b[0m\u001b[0;34m(\u001b[0m\u001b[0mcost\u001b[0m\u001b[0;34m)\u001b[0m\u001b[0;34m)\u001b[0m\u001b[0;34m\u001b[0m\u001b[0m\n\u001b[0;32m---> 61\u001b[0;31m         \u001b[0mprint\u001b[0m\u001b[0;34m(\u001b[0m\u001b[0;34m\"\\tTest Error: {}\"\u001b[0m\u001b[0;34m.\u001b[0m\u001b[0mformat\u001b[0m\u001b[0;34m(\u001b[0m\u001b[0merr\u001b[0m\u001b[0;34m)\u001b[0m\u001b[0;34m)\u001b[0m\u001b[0;34m\u001b[0m\u001b[0m\n\u001b[0m",
      "\u001b[0;32m/Applications/anaconda/lib/python3.5/site-packages/tensorflow/python/client/session.py\u001b[0m in \u001b[0;36m__exit__\u001b[0;34m(self, exec_type, exec_value, exec_tb)\u001b[0m\n\u001b[1;32m   1590\u001b[0m     \u001b[0mself\u001b[0m\u001b[0;34m.\u001b[0m\u001b[0m_default_graph_context_manager\u001b[0m \u001b[0;34m=\u001b[0m \u001b[0;32mNone\u001b[0m\u001b[0;34m\u001b[0m\u001b[0m\n\u001b[1;32m   1591\u001b[0m \u001b[0;34m\u001b[0m\u001b[0m\n\u001b[0;32m-> 1592\u001b[0;31m     \u001b[0mself\u001b[0m\u001b[0;34m.\u001b[0m\u001b[0mclose\u001b[0m\u001b[0;34m(\u001b[0m\u001b[0;34m)\u001b[0m\u001b[0;34m\u001b[0m\u001b[0m\n\u001b[0m\u001b[1;32m   1593\u001b[0m \u001b[0;34m\u001b[0m\u001b[0m\n\u001b[1;32m   1594\u001b[0m   \u001b[0;34m@\u001b[0m\u001b[0mstaticmethod\u001b[0m\u001b[0;34m\u001b[0m\u001b[0m\n",
      "\u001b[0;32m/Applications/anaconda/lib/python3.5/site-packages/tensorflow/python/client/session.py\u001b[0m in \u001b[0;36mclose\u001b[0;34m(self)\u001b[0m\n\u001b[1;32m    726\u001b[0m     \u001b[0;32mif\u001b[0m \u001b[0mself\u001b[0m\u001b[0;34m.\u001b[0m\u001b[0m_session\u001b[0m \u001b[0;32mand\u001b[0m \u001b[0;32mnot\u001b[0m \u001b[0mself\u001b[0m\u001b[0;34m.\u001b[0m\u001b[0m_closed\u001b[0m\u001b[0;34m:\u001b[0m\u001b[0;34m\u001b[0m\u001b[0m\n\u001b[1;32m    727\u001b[0m       \u001b[0mself\u001b[0m\u001b[0;34m.\u001b[0m\u001b[0m_closed\u001b[0m \u001b[0;34m=\u001b[0m \u001b[0;32mTrue\u001b[0m\u001b[0;34m\u001b[0m\u001b[0m\n\u001b[0;32m--> 728\u001b[0;31m       \u001b[0mtf_session\u001b[0m\u001b[0;34m.\u001b[0m\u001b[0mTF_CloseSession\u001b[0m\u001b[0;34m(\u001b[0m\u001b[0mself\u001b[0m\u001b[0;34m.\u001b[0m\u001b[0m_session\u001b[0m\u001b[0;34m)\u001b[0m\u001b[0;34m\u001b[0m\u001b[0m\n\u001b[0m\u001b[1;32m    729\u001b[0m \u001b[0;34m\u001b[0m\u001b[0m\n\u001b[1;32m    730\u001b[0m   \u001b[0;32mdef\u001b[0m \u001b[0m__del__\u001b[0m\u001b[0;34m(\u001b[0m\u001b[0mself\u001b[0m\u001b[0;34m)\u001b[0m\u001b[0;34m:\u001b[0m\u001b[0;34m\u001b[0m\u001b[0m\n",
      "\u001b[0;31mKeyboardInterrupt\u001b[0m: "
     ]
    }
   ],
   "source": [
    "tf.reset_default_graph()\n",
    "\n",
    "filter1 = tf.get_variable(name='filter1', shape=(5, 5, 1, 6), initializer=tf.glorot_uniform_initializer())\n",
    "bias1 = tf.get_variable(name='bias1', initializer=tf.zeros((6)))\n",
    "filter2 = tf.get_variable(name='filter2', shape=(5, 5, 6, 16), initializer=tf.glorot_uniform_initializer())\n",
    "bias2 = tf.get_variable(name='bias2', initializer=tf.zeros((16)))\n",
    "W1 = tf.get_variable(name='W1', shape=(400, 120), initializer=tf.glorot_uniform_initializer())\n",
    "b1 = tf.get_variable(name='b1', initializer=tf.zeros((120)))\n",
    "W2 = tf.get_variable(name='W2', shape=(120, 84), initializer=tf.glorot_uniform_initializer())\n",
    "b2 = tf.get_variable(name='b2', initializer=tf.zeros(84))\n",
    "W3 = tf.get_variable(name='W3', shape=(84, 10), initializer=tf.glorot_uniform_initializer())\n",
    "b3 = tf.get_variable(name='b3', initializer=tf.zeros(10))\n",
    "\n",
    "parameters = [filter1, bias1, filter2, bias2, W1, b1, W2, b2, W3, b3]\n",
    "regularization = 0.0\n",
    "loop_params = [8, 8]\n",
    "base_batch_size = 512\n",
    "batch_params = [64, 4]\n",
    "lr = 100.0\n",
    "epochs = 100\n",
    "batch_size = 512\n",
    "num_mini_batches = x_train.shape[0] // batch_size\n",
    "\n",
    "X = tf.placeholder(dtype='float32', shape=(batch_size, 28, 28, 1), name='X')\n",
    "y = tf.placeholder(dtype='float32', shape=(batch_size, 10), name='y')\n",
    "step_size = tf.placeholder(dtype='float32', shape=(), name='step')\n",
    "\n",
    "X_test = tf.placeholder(dtype='float32', shape=(10000, 28, 28, 1), name='X_test')\n",
    "y_test = tf.placeholder(dtype='int64', shape=(10000, ), name='y_test')\n",
    "\n",
    "init = tf.global_variables_initializer()\n",
    "\n",
    "with tf.Session() as sess:\n",
    "    sess.run(init)\n",
    "#     parameters_history = []\n",
    "    snvrg_loss_history = []\n",
    "    snvrg_test_error_history = []\n",
    "    for epoch in range(epochs):\n",
    "#         if epoch % 10 == 0:\n",
    "#             lr *= 10\n",
    "        print(\"Epoch {}/{}\".format(epoch+1, epochs))\n",
    "        indexes = np.arange(x_train.shape[0])\n",
    "        np.random.shuffle(indexes)\n",
    "        for batch in range(1):\n",
    "#         for batch in range(num_mini_batches - 1):\n",
    "            x_batch = x_train[indexes[batch * batch_size: (batch+1) * batch_size]]\n",
    "            y_batch = y_tr[indexes[batch * batch_size: (batch+1) * batch_size]]\n",
    "            parameters_hat, parameters, c = one_epoch_SNVRG_tf(X, y, parameters, regularization, loop_params, \n",
    "                                                                  batch_params, base_batch_size, step_size)\n",
    "            param_hat, param, cost = sess.run([parameters_hat, parameters, c], \n",
    "                                                  feed_dict={X: x_batch, y: y_batch, step_size: lr})\n",
    "            print(\"Batch: {}\\t Loss: {}\".format(batch, cost))\n",
    "            \n",
    "\n",
    "        test_error = evaluate(X_test, y_test, param_hat)\n",
    "        err = sess.run(test_error, feed_dict={X_test: x_test, y_test: y_te})\n",
    "        \n",
    "        snvrg_loss_history.append(cost)\n",
    "        snvrg_test_error_history.append(err)\n",
    "        print(\"\\tLoss: {}\".format(cost))\n",
    "        print(\"\\tTest Error: {}\".format(err))"
   ]
  },
  {
   "cell_type": "code",
   "execution_count": 0,
   "metadata": {
    "colab": {},
    "colab_type": "code",
    "id": "hwVsBCqT5TdM",
    "outputId": "3c15d2e5-f3b6-43a9-9565-7dfff115be77"
   },
   "outputs": [
    {
     "name": "stdout",
     "output_type": "stream",
     "text": [
      "[0.51936007, -1.8262963, nan, nan, nan, nan, nan, nan, nan, nan, nan, nan, nan, nan, nan, nan, nan, nan, nan, nan]\n"
     ]
    }
   ],
   "source": [
    "print(loss_his)"
   ]
  },
  {
   "cell_type": "code",
   "execution_count": 0,
   "metadata": {
    "colab": {},
    "colab_type": "code",
    "id": "P7aqmxpv5TdQ"
   },
   "outputs": [],
   "source": []
  }
 ],
 "metadata": {
  "accelerator": "GPU",
  "colab": {
   "collapsed_sections": [],
   "name": "SNVRG.ipynb",
   "provenance": [],
   "version": "0.3.2"
  },
  "kernelspec": {
   "display_name": "Python 3",
   "language": "python",
   "name": "python3"
  },
  "language_info": {
   "codemirror_mode": {
    "name": "ipython",
    "version": 3
   },
   "file_extension": ".py",
   "mimetype": "text/x-python",
   "name": "python",
   "nbconvert_exporter": "python",
   "pygments_lexer": "ipython3",
   "version": "3.5.0"
  }
 },
 "nbformat": 4,
 "nbformat_minor": 1
}
